{
 "cells": [
  {
   "cell_type": "markdown",
   "metadata": {},
   "source": [
    "# Operações morfológicas\n",
    "- São transformações aplicadas as imagens binárias ou tons de cinza\n",
    "- É aplicada em formas e estruturas\n",
    "- Objetivos de uma operação morfológica:\n",
    "    - Aumentar o tamanho de um objeto\n",
    "    - Reduzir o tamanho de um objeto\n",
    "    - Fechar gaps entre objetos\n",
    "    - Abrir gaps entre objetos\n",
    "- São muito usadas no pré e pós processamento de imagens\n",
    "- Existem diversas operações morfológicas, vamos focar nas seguintes:\n",
    "    - a..."
   ]
  },
  {
   "cell_type": "code",
   "execution_count": null,
   "metadata": {},
   "outputs": [],
   "source": [
    "import cv2\n",
    "import matplotlib.pyplot as plt\n",
    "import numpy as np"
   ]
  },
  {
   "cell_type": "markdown",
   "metadata": {},
   "source": [
    "## Elemetos de estrutura (*structuring elements*)\n",
    "- Podemos entender essa estrutura como uma variante de um kernel\n",
    "- Porém, ao invés de aplicar convoluções, os algoritmos aplicam operações mais simples com os pixels da imagem\n",
    "- Assim como kernels, essas estruturas vão deslizar sob toda a imagem\n",
    "- E também possui diferentes formas, mas neste caso, vem o conceito de vizinhança, por exemplo:\n",
    "\n",
    "![](assets/neighbourhoods.gif)\n",
    "\n",
    "\n",
    "- Podemos criar uma estrutura com a função `getStructuringElement()`"
   ]
  },
  {
   "cell_type": "code",
   "execution_count": null,
   "metadata": {},
   "outputs": [],
   "source": [
    "M = cv2.getStructuringElement(cv2.MORPH_CROSS, (3,3))\n",
    "M"
   ]
  },
  {
   "cell_type": "markdown",
   "metadata": {},
   "source": [
    "- Carregando uma imagem:"
   ]
  },
  {
   "cell_type": "code",
   "execution_count": null,
   "metadata": {},
   "outputs": [],
   "source": [
    "img = cv2.imread(\"assets/opencv.png\")\n",
    "img_gray = cv2.cvtColor(img, cv2.COLOR_BGR2GRAY)\n",
    "plt.imshow(img, cmap=\"gray\")"
   ]
  },
  {
   "cell_type": "markdown",
   "metadata": {},
   "source": [
    "## Erosão\n",
    "- Aplica uma erosão na imagem pra diminuir o tamanho de alguma estrutura\n",
    "- Em resumo, pixels proximos a bordas serão descartados \n",
    "- É definido um elemento de estrutura que vai percorrer toda a imagem\n",
    "- Um pixel vai ser matindo se todos os pixels dentro da estrutura forem maiores do que zero\n",
    "    - Caso contrario, são descartados, ou seja, igualados a zero\n",
    "- Essa operação é muito útil para remover pequenos blobs em uma imagem ou desconectar algum objeto\n",
    "- A função `erode()` faz o trabalho"
   ]
  },
  {
   "cell_type": "code",
   "execution_count": null,
   "metadata": {},
   "outputs": [],
   "source": [
    "est = cv2.getStructuringElement(cv2.MORPH_ERODE, (3,3))\n",
    "img_er = cv2.erode(img, est, iterations=1)\n",
    "plt.imshow(img_er, cmap=\"gray\")"
   ]
  },
  {
   "cell_type": "markdown",
   "metadata": {},
   "source": [
    "- Quanto mais iterações, mais erosão"
   ]
  },
  {
   "cell_type": "markdown",
   "metadata": {},
   "source": [
    "## Dilatação\n",
    "- É o oposto da erosão\n",
    "- A ideia é dilatar os pixels\n",
    "- Também usa o elemento estrutural\n",
    "    - O pixel central do elemento é zero se qualquer um é maior do que zero\n",
    "- A função `dilate()` faz o trabalho"
   ]
  },
  {
   "cell_type": "code",
   "execution_count": null,
   "metadata": {},
   "outputs": [],
   "source": [
    "est = cv2.getStructuringElement(cv2.MORPH_DILATE, (3,3))\n",
    "img_dil = cv2.dilate(img, est, iterations=1)\n",
    "plt.imshow(img_dil, cmap=\"gray\")"
   ]
  },
  {
   "cell_type": "markdown",
   "metadata": {},
   "source": [
    "## Abertura\n",
    "- Nada mais é do que uma erosão seguida de uma dilatação\n",
    "- É útil para remover pequenos blobs da imagem\n",
    "- Para realizar uma abertura usamos a função `morphologyEx()` passando como parametro `cv2.MORPH_OPEN`"
   ]
  },
  {
   "cell_type": "code",
   "execution_count": null,
   "metadata": {},
   "outputs": [],
   "source": [
    "est = cv2.getStructuringElement(cv2.MORPH_CROSS, (4,4))\n",
    "img_open = cv2.morphologyEx(img, cv2.MORPH_OPEN, est)\n",
    "plt.imshow(img_open, cmap=\"gray\")"
   ]
  },
  {
   "cell_type": "markdown",
   "metadata": {},
   "source": [
    "- Podemos tentar trocar o tamanho da estrutura ou o formato dela"
   ]
  },
  {
   "cell_type": "markdown",
   "metadata": {},
   "source": [
    "## Fechamento\n",
    "- Como já deve imaginar, nada mais é do que o posto da abertura\n",
    "- Aplica uma dilatação seguido de uma erosão\n",
    "- É util para expandir e conectar estruturas\n",
    "- Para realizar uma abertura usamos a função `morphologyEx()` passando como parametro `cv2.MORPH_CLOSE`"
   ]
  },
  {
   "cell_type": "code",
   "execution_count": null,
   "metadata": {},
   "outputs": [],
   "source": [
    "est = cv2.getStructuringElement(cv2.MORPH_RECT, (9,9))\n",
    "img_close = cv2.morphologyEx(img, cv2.MORPH_CLOSE, est)\n",
    "plt.imshow(img_close, cmap=\"gray\")"
   ]
  },
  {
   "cell_type": "markdown",
   "metadata": {},
   "source": [
    "## Gradiente morfológico\n",
    "- É a diferença entre dilatação e erosão\n",
    "- É útil para criar *outline* de um objeto\n",
    "- Para realizar uma abertura usamos a função `morphologyEx()` passando como parametro `cv2.MORPH_GRADIENT`"
   ]
  },
  {
   "cell_type": "code",
   "execution_count": null,
   "metadata": {},
   "outputs": [],
   "source": [
    "est = cv2.getStructuringElement(cv2.MORPH_RECT, (2,2))\n",
    "img_grad = cv2.morphologyEx(img, cv2.MORPH_GRADIENT, est)\n",
    "plt.imshow(img_grad, cmap=\"gray\")"
   ]
  },
  {
   "cell_type": "markdown",
   "metadata": {},
   "source": [
    "## White/Top hat e Black hat\n",
    "- É a diferença entre a imagem original com 1 canal (tons de cinza ou preto e branco) e a operação de abertura\n",
    "- É útil para revelar regiões com brilho dentro de imagens com background escuro\n",
    "- Para realizar uma abertura usamos a função `morphologyEx()` passando como parametro `cv2.MORPH_BLACKHAT`\n",
    "- Vamos carregar uma imagem de um carro para exemplificar"
   ]
  },
  {
   "cell_type": "code",
   "execution_count": null,
   "metadata": {},
   "outputs": [],
   "source": [
    "carro = cv2.imread(\"assets/carro.jpg\")\n",
    "carro = cv2.cvtColor(carro, cv2.COLOR_BGR2GRAY)\n",
    "plt.imshow(carro, cmap=\"gray\")"
   ]
  },
  {
   "cell_type": "code",
   "execution_count": null,
   "metadata": {},
   "outputs": [],
   "source": [
    "est = cv2.getStructuringElement(cv2.MORPH_RECT, (7,5))\n",
    "carro_bh = cv2.morphologyEx(carro, cv2.MORPH_BLACKHAT, est)\n",
    "plt.imshow(carro_bh, cmap=\"gray\")"
   ]
  },
  {
   "cell_type": "code",
   "execution_count": null,
   "metadata": {},
   "outputs": [],
   "source": [
    "est = cv2.getStructuringElement(cv2.MORPH_RECT, (9,9))\n",
    "carro_th = cv2.morphologyEx(carro, cv2.MORPH_TOPHAT, est)\n",
    "plt.imshow(carro_th, cmap=\"gray\")"
   ]
  },
  {
   "cell_type": "markdown",
   "metadata": {},
   "source": [
    "___\n",
    "\n",
    "# Exercício\n",
    "- Aplique um threshold usando o resultado da operação de BlackHat para obter um mascara dos caracteres das placas\n",
    "\n",
    "___"
   ]
  },
  {
   "cell_type": "code",
   "execution_count": null,
   "metadata": {},
   "outputs": [],
   "source": []
  }
 ],
 "metadata": {
  "kernelspec": {
   "display_name": "Python 3 (ipykernel)",
   "language": "python",
   "name": "python3"
  },
  "language_info": {
   "codemirror_mode": {
    "name": "ipython",
    "version": 3
   },
   "file_extension": ".py",
   "mimetype": "text/x-python",
   "name": "python",
   "nbconvert_exporter": "python",
   "pygments_lexer": "ipython3",
   "version": "3.10.4"
  }
 },
 "nbformat": 4,
 "nbformat_minor": 4
}
