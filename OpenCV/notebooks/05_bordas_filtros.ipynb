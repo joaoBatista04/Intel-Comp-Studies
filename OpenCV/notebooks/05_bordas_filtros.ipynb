{
 "cells": [
  {
   "cell_type": "markdown",
   "metadata": {},
   "source": [
    "# Detecção de bordas e filtragem\n",
    "- Detecção de bordas é uma operação importante em processamento de imagens que é alcançada através de filtragem da imagem\n",
    "- Filtragem por sua vez depende de um conceito fundamental chamado de **convolução 2D**\n",
    "- Muitas das funções da biblioteca utilizam esses conceitos no seu codigo fonte"
   ]
  },
  {
   "cell_type": "code",
   "execution_count": null,
   "metadata": {},
   "outputs": [],
   "source": [
    "import cv2\n",
    "import matplotlib.pyplot as plt\n",
    "import numpy as np\n",
    "\n",
    "obama = cv2.cvtColor(cv2.imread(\"assets/obama.jpg\"), cv2.COLOR_BGR2RGB)\n",
    "obama_gray = cv2.cvtColor(obama, cv2.COLOR_RGB2GRAY)\n",
    "plt.imshow(obama)"
   ]
  },
  {
   "cell_type": "markdown",
   "metadata": {},
   "source": [
    "## Convolução\n",
    "- O conceito de [convolução](https://pt.wikipedia.org/wiki/Convolu%C3%A7%C3%A3o) vem do processamento de sinais\n",
    "- É um operador linear de duas funções que resulta em uma outra função\n",
    "- Vamos supor que temos duas funções $f$ e $g$, a convolução discreta $f \\ast g$ entre elas é definida como:\n",
    "\n",
    "$$\n",
    "(f \\ast g)(k) = h(k) = \\sum_{j=0}^{k} f(j)g(k-j)\n",
    "$$\n",
    "\n",
    "- Esse conceito é levado para imagens, mas com o nome de **convolução 2D**:\n",
    "\n",
    "$$\n",
    "H[i,j] = \\sum_{u=-k}^{k} \\sum_{v=-k}^{k} g[u,v]F[i+u,j+v]\n",
    "$$\n",
    "\n",
    "- Em processamento de imagens, $F$ é a imagens que desejamos filtrar e $G$ é um kernel que precisa ser definido e $H$ a imagem resultante\n",
    "- É bem mais fácil entender visualmente\n",
    "    - [Exemplo visual 1](https://ujjwalkarn.me/2016/08/11/intuitive-explanation-convnets/)\n",
    "    - [Exemplo visual 2](https://cs231n.github.io/convolutional-networks/)"
   ]
  },
  {
   "cell_type": "markdown",
   "metadata": {},
   "source": [
    "## Fazendo o primeiro filtro - Blurring\n",
    "- Vamos aplicar um blur na imagem usando convolução    \n",
    "- Blur nada mais é do que fazer a média dos pixels dentro de uma vizinhança\n",
    "    - [Aqui](https://pyimagesearch.com/2021/04/28/opencv-smoothing-and-blurring/) você encontra um tutorial completo sobre o tema\n",
    "- Possui diversas aplicações, entre elas:\n",
    "    - Tirar ruido de uma imagem\n",
    "    - Preparar a imagem para uma filtragem\n",
    "- Também conhecido como um **filto passa baixa**\n",
    "    - No contexto de de imagens, a frequência é relacionada a taxa de mudança dos valores pixels \n",
    "    - Se muda abruptamente, isso significa uma frequência alta\n",
    "        - É fácil perceber que em uma borda isso aconteceria\n",
    "        - Portanto, esse tipo de filtro aplica uma suavização nas bordas\n",
    "        \n",
    "### Criando e aplicando o filtro\n",
    "- Para realizar a filtragem, precisamos definir um kernel\n",
    "- O kernel para blurring nada mas é do que algo que faça a média de uma vizinhança\n",
    "- Vamos começar usando o seguinte kernel:\n",
    "$$G = \\frac{1}{9}\n",
    "\\begin{bmatrix}\n",
    "    1 & 1 & 1 \\\\\n",
    "    1 & 1 & 1 \\\\\n",
    "    1 & 1 & 1\n",
    "\\end{bmatrix}\n",
    "$$\n",
    "\n",
    "- A divisão por 9 é para fazer com que a soma seja 1\n",
    "    - Isso é chamado de normalização (para simular um filtro gaussiano)\n",
    "    - Se não for feito, afeta o brilho da imagem\n",
    "- Agora, vamos aplicar esse filtro a uma imagem usando a função `filter2D()` que é basicamente a aplicação de uma convolução"
   ]
  },
  {
   "cell_type": "code",
   "execution_count": null,
   "metadata": {},
   "outputs": [],
   "source": [
    "kernel = np.ones([3,3], dtype=np.float32)\n",
    "kernel = kernel / kernel.sum()\n",
    "obama_blur = cv2.filter2D(src=obama, # imagem a ser filtrada\n",
    "                          ddepth=-1, # profundidade da imagem filtrada. -1 mantem a mesma da src\n",
    "                          kernel=kernel # kernel para realizar a filtragem\n",
    "                         )\n",
    "plt.imshow(obama_blur)"
   ]
  },
  {
   "cell_type": "markdown",
   "metadata": {},
   "source": [
    "- Observe que aumentar o tamanho do kernel resulta em maior blur\n",
    "    - Porque?\n",
    "- [Excelente exemplo visual de um blur](https://www.youtube.com/watch?v=8rrHTtUzyZA)\n",
    "\n",
    "\n",
    "- Como essa é uma operação comum e importante a biblioteca possui uma função específica pra ela, a `blur()`"
   ]
  },
  {
   "cell_type": "code",
   "execution_count": null,
   "metadata": {},
   "outputs": [],
   "source": [
    "obama_blur = cv2.blur(obama, (7,7))\n",
    "plt.imshow(obama_blur)"
   ]
  },
  {
   "cell_type": "markdown",
   "metadata": {},
   "source": [
    "- Outras opções de blur:\n",
    "    - `GaussianBlur()`: utiliza uma distribuição normal para fazer uma espécia de média ponderada\n",
    "    - `medianBlur()`: utiliza a mediana (bem eficiente contra ruidos do estilo salt and pepper)\n",
    "    - `bilateralBlur()`: utiliza duas Gaussianas, uma apenas par aconsiderar os vizinhos espaciais e outra para considerar os vizinos com intensidades semelhantes. É muito utilizada para preprocessar a imagem antes de detectar borda, uma vez que é capaz de manter boa parte dessas caraceristicas na imagem"
   ]
  },
  {
   "cell_type": "code",
   "execution_count": null,
   "metadata": {},
   "outputs": [],
   "source": [
    "obama_blur = cv2.GaussianBlur(obama, (7,7), cv2.BORDER_DEFAULT)\n",
    "plt.imshow(obama_blur)"
   ]
  },
  {
   "cell_type": "code",
   "execution_count": null,
   "metadata": {},
   "outputs": [],
   "source": [
    "obama_blur = cv2.medianBlur(obama, 7)\n",
    "plt.imshow(obama_blur)"
   ]
  },
  {
   "cell_type": "code",
   "execution_count": null,
   "metadata": {},
   "outputs": [],
   "source": [
    "obama_blur = cv2.bilateralFilter(obama_blur, # imagem a ser aplicado o filtro\n",
    "                                 11,  # diametro da vizinhança (quanto maior, mais pixels vao ser considerados)\n",
    "                                 21, # desvio padrao da cor que vai ser considerada (quanto maior, mais a gente se aproxima da gaussiana padrão)\n",
    "                                 7 # desvio padrao espacial (quanto maior, mais pixels vao influenciar)\n",
    "                                )\n",
    "plt.imshow(obama_blur)"
   ]
  },
  {
   "cell_type": "markdown",
   "metadata": {},
   "source": [
    "- De maneira geral, filtrar uma imagem significa definir um kernel e aplicar a convolução\n",
    "- Isso é usado largamente para diversas operações"
   ]
  },
  {
   "cell_type": "markdown",
   "metadata": {},
   "source": [
    "## Sharpening\n",
    "- Operação que da destaque as bordas de uma imagem\n",
    "- Obviamente, é usada como um preprocessamento para melhorar essa detecção\n",
    "- A ideia é a mesma do blur, define-se um kernel e depois aplica a filtragem\n",
    "- Existem diversos kernels para aplicar tal operação, vamos começar pelo seguinte:\n",
    "\n",
    "$$\n",
    "G = \n",
    "\\begin{bmatrix}\n",
    "-1 & -1 & -1\\\\\n",
    "-1 & 9 & -1\\\\\n",
    "-1 & -1 & -1\\\\\n",
    "\\end{bmatrix}\n",
    "$$"
   ]
  },
  {
   "cell_type": "code",
   "execution_count": null,
   "metadata": {},
   "outputs": [],
   "source": [
    "kernel = np.ones([3,3], dtype=np.float32) * -1\n",
    "kernel[1,1] = 9\n",
    "obama_sharp = cv2.filter2D(src=obama, ddepth=-1, kernel=kernel)\n",
    "plt.imshow(obama_sharp)"
   ]
  },
  {
   "cell_type": "markdown",
   "metadata": {},
   "source": [
    "- Se quisermos aplicar um sharp execessivo, poriamos usar:\n",
    "\n",
    "$$\n",
    "G = \n",
    "\\begin{bmatrix}\n",
    "1 & 1 & 1\\\\\n",
    "1 & -7 & 1\\\\\n",
    "1 & 1 & 1\\\\\n",
    "\\end{bmatrix}\n",
    "$$"
   ]
  },
  {
   "cell_type": "code",
   "execution_count": null,
   "metadata": {},
   "outputs": [],
   "source": [
    "kernel = np.ones([3,3], dtype=np.float32)\n",
    "kernel[1,1] = -7\n",
    "obama_sharp = cv2.filter2D(src=obama, ddepth=-1, kernel=kernel)\n",
    "plt.imshow(obama_sharp)"
   ]
  },
  {
   "cell_type": "markdown",
   "metadata": {},
   "source": [
    "- Mas perceba que a imagem fica muito deformanda\n",
    "- Uma opção é fazer uma espécie de sharp + gaussian"
   ]
  },
  {
   "cell_type": "code",
   "execution_count": null,
   "metadata": {},
   "outputs": [],
   "source": [
    "kernel = np.array([\n",
    "                    [-1,-1,-1,-1,-1],\n",
    "                    [-1, 2, 2, 2,-1],\n",
    "                    [-1, 2, 8, 2,-1],\n",
    "                    [-1, 2, 2, 2,-1],\n",
    "                    [-1,-1,-1,-1,-1]\n",
    "                  ])\n",
    "kernel = kernel / kernel.sum()\n",
    "obama_sharp = cv2.filter2D(src=obama, ddepth=-1, kernel=kernel)\n",
    "plt.imshow(obama_sharp)"
   ]
  },
  {
   "cell_type": "markdown",
   "metadata": {},
   "source": [
    "## Embossing\n",
    "- Operação que troca o pixel original por algo como uma sobra ou um destaque\n",
    "- Também é um técnica comum de preprocessamento de imagem\n",
    "- Exemplo de kernel:\n",
    "\n",
    "$$\n",
    "G = \n",
    "\\begin{bmatrix}\n",
    "0 & -1 & -1\\\\\n",
    "1 & 0 & -1\\\\\n",
    "1 & 1 & 0\n",
    "\\end{bmatrix}\n",
    "$$"
   ]
  },
  {
   "cell_type": "code",
   "execution_count": null,
   "metadata": {},
   "outputs": [],
   "source": [
    "kernel = np.array([\n",
    "                    [0, -1, -1],\n",
    "                    [1, 0,  -1],\n",
    "                    [1, 1,   0]                    \n",
    "                  ])\n",
    "obama_emb = cv2.filter2D(src=obama, ddepth=-1, kernel=kernel)\n",
    "plt.imshow(obama_emb)"
   ]
  },
  {
   "cell_type": "markdown",
   "metadata": {},
   "source": [
    "- Podemos aplicar a operação para uma imagem em tons de cinza"
   ]
  },
  {
   "cell_type": "code",
   "execution_count": null,
   "metadata": {},
   "outputs": [],
   "source": [
    "obama_emb = cv2.filter2D(src=obama_gray, ddepth=-1, kernel=kernel)\n",
    "plt.imshow(obama_emb, cmap=\"gray\")"
   ]
  },
  {
   "cell_type": "markdown",
   "metadata": {},
   "source": [
    "- Também podemos alterar o filtro"
   ]
  },
  {
   "cell_type": "code",
   "execution_count": null,
   "metadata": {},
   "outputs": [],
   "source": [
    "kernel = np.array([\n",
    "                    [1, 0,  0],\n",
    "                    [0, 0,  0],\n",
    "                    [0, 0, -1]                    \n",
    "                  ])\n",
    "obama_emb = cv2.filter2D(src=obama, ddepth=-1, kernel=kernel)\n",
    "plt.imshow(obama_emb)"
   ]
  },
  {
   "cell_type": "markdown",
   "metadata": {},
   "source": [
    "## Detecção de bordas\n",
    "- Basicamente é o processo de encontrar as bordas de uma imagem e devolver uma máscara, que nada mais é do que uma imagem binária (preto e branco)\n",
    "- Como já discutido, é uma operação que envolve operações de filtragem de altas frequências\n",
    "    - Ou seja, detectar onde tem mudanças abruptas de cores\n",
    "    - São utilizados kernels que filtragem passa alta\n",
    "- Uma outra forma de interpretar a localização de uma borda é através de um derivada\n",
    "    - A borda na mais é do que uma mudança abrupta de pixels\n",
    "    \n",
    "    \n",
    "### Sobel\n",
    "\n",
    "- Um filtro famoso é o `sobel`, que é um operador de diferenciaçã discreto\n",
    "    - É uma aproximação da derivada de intenside dos pixels de uma imagem\n",
    "    - Combina suvização gaussiana com diferenciação\n",
    "- Existem dois kernels:\n",
    "\n",
    "\n",
    "$$\n",
    "S_y = \n",
    "\\begin{bmatrix}\n",
    "-1 & 0 & 1 \\\\\n",
    "-2 & 0 & 2 \\\\\n",
    "-1 & 0 & 1 \n",
    "\\end{bmatrix}\n",
    "$$\n",
    "\n",
    "$$\n",
    "S_x = \n",
    "\\begin{bmatrix}\n",
    "-1 & -2 & -1 \\\\\n",
    "0 & 0 & 0 \\\\\n",
    "1 & 2 & 1 \n",
    "\\end{bmatrix}\n",
    "$$\n",
    "\n",
    "- $S_x$ detecta bordas horizontais, enquanto $S_y$ as verticais\n",
    "- Em um dado ponto de uma imagem, podemos calcular gradiente da seguinte forma: $S = \\sqrt{S_x^2 + S_y^2}$\n",
    "- Para exemplificar, vamos carregar uma outra imagem:"
   ]
  },
  {
   "cell_type": "code",
   "execution_count": null,
   "metadata": {},
   "outputs": [],
   "source": [
    "formas = cv2.cvtColor(cv2.imread(\"assets/formas.png\"), cv2.COLOR_BGR2GRAY)\n",
    "plt.imshow(formas, cmap=\"gray\")"
   ]
  },
  {
   "cell_type": "code",
   "execution_count": null,
   "metadata": {},
   "outputs": [],
   "source": [
    "s_x = np.array([ [-1, 0, 1],\n",
    "                 [-2, 0,  2],\n",
    "                 [-1, 0, 1]                    \n",
    "              ])\n",
    "formas_sob_x = cv2.filter2D(src=formas, ddepth=-1, kernel=s_x)\n",
    "plt.imshow(formas_sob_x, cmap=\"gray\")"
   ]
  },
  {
   "cell_type": "code",
   "execution_count": null,
   "metadata": {},
   "outputs": [],
   "source": [
    "s_y = np.array([ [-1, -2, -1],\n",
    "                 [0, 0,  0],\n",
    "                 [1, 2, 1]                    \n",
    "              ])\n",
    "formas_sob_y = cv2.filter2D(src=formas, ddepth=-1, kernel=s_y)\n",
    "plt.imshow(formas_sob_y, cmap=\"gray\")"
   ]
  },
  {
   "cell_type": "code",
   "execution_count": null,
   "metadata": {},
   "outputs": [],
   "source": [
    "s = np.sqrt(s_x**2 + s_y**2)\n",
    "formas_sob = cv2.filter2D(src=formas, ddepth=-1, kernel=s)\n",
    "plt.imshow(formas_sob, cmap=\"gray\")"
   ]
  },
  {
   "cell_type": "markdown",
   "metadata": {},
   "source": [
    "- A biblioteca oferece uma função para aplicarmos `sobel`"
   ]
  },
  {
   "cell_type": "code",
   "execution_count": null,
   "metadata": {},
   "outputs": [],
   "source": [
    "formas_sob = cv2.Sobel(formas, # imagem para aplivar o filtro\n",
    "                       cv2.CV_16S, # o depth fa imagem de saida\n",
    "                       1, # ordem da derivada na direção de X\n",
    "                       0, # ordem da derivada na direção de Y\n",
    "                       ksize=5 # tamanho do kernel\n",
    "                      )\n",
    "plt.imshow(formas_sob, cmap=\"gray\")"
   ]
  },
  {
   "cell_type": "markdown",
   "metadata": {},
   "source": [
    "- Obtendo uma máscara preto e branco usando a função `threshold()`"
   ]
  },
  {
   "cell_type": "code",
   "execution_count": null,
   "metadata": {},
   "outputs": [],
   "source": [
    "thresh = 50\n",
    "t, forma_bw = cv2.threshold(formas_sob, thresh, 255, cv2.THRESH_BINARY)\n",
    "plt.imshow(forma_bw, cmap=\"gray\")"
   ]
  },
  {
   "cell_type": "markdown",
   "metadata": {},
   "source": [
    "### Laplacian\n",
    "- Uma outra opção para detectar bordas é o filtro laplaciano\n",
    "- A vantagem é que ele calcula derivadas de segunda ordem em ambas as direções\n",
    "- A biblioteca fornece a função `Laplacian()`\n",
    "    - Que internamente chama a `Sobel()`"
   ]
  },
  {
   "cell_type": "code",
   "execution_count": null,
   "metadata": {},
   "outputs": [],
   "source": [
    "formas_lap = cv2.Laplacian(formas, cv2.CV_8U, 5)\n",
    "thresh = 50\n",
    "t, forma_bw = cv2.threshold(formas_lap, thresh, 255, cv2.THRESH_BINARY)\n",
    "plt.imshow(forma_bw, cmap=\"gray\")"
   ]
  },
  {
   "cell_type": "code",
   "execution_count": null,
   "metadata": {},
   "outputs": [],
   "source": [
    "obama_lap = cv2.Laplacian(obama, cv2.CV_8U, 5)\n",
    "plt.imshow(obama_lap, cmap=\"gray\")"
   ]
  },
  {
   "cell_type": "markdown",
   "metadata": {},
   "source": [
    "### Canny\n",
    "- Uma outra opção de detector de borda é o `Canny`\n",
    "- Esse algoritmo utiliza dois thresholds o lower e o upper\n",
    "- A ideia do algoritmo é a seguinte:\n",
    "    1. Aplica um filtro Gaussiano para diminuir ruido\n",
    "    2. Calculas de derivadas em ambas as direções\n",
    "    3. Se o pixel do gradiente é maior do que upper, então ele é aceito como uma borda\n",
    "    4. Se o pixel do gradiente é menor do que lower, então ele é rejeitado\n",
    "    5. Para todos os pixels entre os threshods, ele é aceito se estiver conectado com pixels aceitos em 3"
   ]
  },
  {
   "cell_type": "code",
   "execution_count": null,
   "metadata": {},
   "outputs": [],
   "source": [
    "obama_can = cv2.Canny(obama, 50, 240)\n",
    "plt.imshow(obama_can, cmap=\"gray\")"
   ]
  },
  {
   "cell_type": "markdown",
   "metadata": {},
   "source": [
    "## Contornos\n",
    "- Um contorno nada mais é do que pontos contínuos conectados que possuem mesma cor e intensidade \n",
    "- Muito útil para detectar formas e objetos\n",
    "- Funciona muito melhor com imagens binarias\n",
    "- Na biblioteca usamos a função `findContours()`\n",
    "    - Retorna uma lista de contornos e [hierarquias](https://docs.opencv.org/4.x/d9/d8b/tutorial_py_contours_hierarchy.html#:~:text=This%20way%2C%20contours%20in%20an,relationship%20is%20called%20the%20Hierarchy.)"
   ]
  },
  {
   "cell_type": "code",
   "execution_count": null,
   "metadata": {},
   "outputs": [],
   "source": [
    "contours, hier = cv2.findContours(obama_can, # imagens que vai buscar os contornos\n",
    "                                  cv2.RETR_EXTERNAL, # método de contorno (existem vários)\n",
    "                                  cv2.CHAIN_APPROX_NONE # uma maneira de reduzir a quantidade de contornos. Se for None, pega tudo\n",
    "                                 )"
   ]
  },
  {
   "cell_type": "markdown",
   "metadata": {},
   "source": [
    "- Podemos desenhar os contornos encontrados"
   ]
  },
  {
   "cell_type": "code",
   "execution_count": null,
   "metadata": {},
   "outputs": [],
   "source": [
    "obama_cnt = cv2.drawContours(np.zeros_like(obama_can), # definindo a imagem onde vai ser desenhado\n",
    "                             contours, # passando os contornos\n",
    "                             -1, # índice do contorno que vai ser desenhado (-1 desenha tudo)\n",
    "                             (255,255,255), # cor do contorno \n",
    "                             3 # grossura da linha\n",
    "                            )\n",
    "plt.imshow(obama_cnt, cmap=\"gray\")"
   ]
  },
  {
   "cell_type": "markdown",
   "metadata": {},
   "source": [
    "- Vamos usar a função `contourArea()` para calcular a área de uma contorno e tentar identificar contornos maiores na imagem"
   ]
  },
  {
   "cell_type": "code",
   "execution_count": null,
   "metadata": {},
   "outputs": [],
   "source": [
    "def find_contours_min(contours, a_min):\n",
    "    for k, cnt in enumerate(contours):\n",
    "        c_area = cv2.contourArea(cnt)\n",
    "        if c_area > a_min:\n",
    "            print(f\"contours[{k}]: {c_area}\")\n",
    "            \n",
    "find_contours_min(contours, 100)"
   ]
  },
  {
   "cell_type": "markdown",
   "metadata": {},
   "source": [
    "#### Identificando contornos com retangulos\n",
    "- Criar um rentangulo em volta de uma forma que identificamos\n",
    "- Para isso vamos carregar uma nova figura"
   ]
  },
  {
   "cell_type": "code",
   "execution_count": null,
   "metadata": {},
   "outputs": [],
   "source": [
    "formas_2 = cv2.imread(\"assets/formas_2.png\")\n",
    "plt.imshow(formas_2, cmap=\"gray\")"
   ]
  },
  {
   "cell_type": "code",
   "execution_count": null,
   "metadata": {},
   "outputs": [],
   "source": [
    "formas_2_can = cv2.Canny(formas_2, 50, 240)\n",
    "plt.imshow(formas_2_can, cmap=\"gray\")"
   ]
  },
  {
   "cell_type": "code",
   "execution_count": null,
   "metadata": {},
   "outputs": [],
   "source": [
    "contours, hier = cv2.findContours(formas_2_can, # imagens que vai buscar os contornos\n",
    "                                  cv2.RETR_TREE, # método de contorno (existem vários)\n",
    "                                  cv2.CHAIN_APPROX_SIMPLE # uma maneira de reduzir a quantidade de contornos. Se for None, pega tudo\n",
    "                                 )\n",
    "\n",
    "forma_cnt = cv2.drawContours(np.zeros_like(formas_2_can), # definindo a imagem onde vai ser desenhado\n",
    "                             contours, # passando os contornos\n",
    "                             -1, # índice do contorno que vai ser desenhado (-1 desenha tudo)\n",
    "                             (255,255,255), # cor do contorno \n",
    "                             3 # grossura da linha\n",
    "                            )\n",
    "\n",
    "plt.imshow(forma_cnt, cmap=\"gray\")"
   ]
  },
  {
   "cell_type": "markdown",
   "metadata": {},
   "source": [
    "- Dando uma olhada nos contornos"
   ]
  },
  {
   "cell_type": "code",
   "execution_count": null,
   "metadata": {},
   "outputs": [],
   "source": [
    "find_contours_min(contours, 100)"
   ]
  },
  {
   "cell_type": "markdown",
   "metadata": {},
   "source": [
    "- Podemos obter o peŕimetro do contorno"
   ]
  },
  {
   "cell_type": "code",
   "execution_count": null,
   "metadata": {},
   "outputs": [],
   "source": [
    "peri = cv2.arcLength(contours[0], # o contorno\n",
    "                     True # se True, indica que é uma forma fechada\n",
    "                    )\n",
    "peri"
   ]
  },
  {
   "cell_type": "markdown",
   "metadata": {},
   "source": [
    "- Agora vamos aproximar a forma do contorno para uma outra forma com menos vertices (de acordo com a precisão especificada)\n",
    "- É bem útil para demarcar uma imagem com um quadrado, por exemplo\n",
    "\n",
    "\n",
    "To understand this, suppose you are trying to find a square in an image, but due to some problems in the image, you didn’t get a perfect square, but a “bad shape” (As shown in first image below). Now you can use this function to approximate the shape. In this, second argument is called epsilon, which is maximum distance from contour to approximated contour. It is an accuracy parameter. A wise selection of epsilon is needed to get the correct output."
   ]
  },
  {
   "cell_type": "code",
   "execution_count": null,
   "metadata": {},
   "outputs": [],
   "source": [
    "approx_cnt = cv2.approxPolyDP(contours[0], # contorno\n",
    "                              0.1*peri, # precisao da aproximação\n",
    "                              True # se True, indica que é uma forma fechada\n",
    "                             )\n",
    "approx_cnt"
   ]
  },
  {
   "cell_type": "code",
   "execution_count": null,
   "metadata": {},
   "outputs": [],
   "source": [
    "x, y, w, h = cv2.boundingRect(approx_cnt)\n",
    "formas_final = cv2.rectangle(formas_2.copy(), (x,y), (x+w, y+h), (0, 255, 0), 1)\n",
    "plt.imshow(formas_final)"
   ]
  },
  {
   "cell_type": "markdown",
   "metadata": {},
   "source": [
    "___\n",
    "# Exercício:\n",
    "- Faça uma função que insira o retângulo em todas as formas da imagem anterior\n",
    "___"
   ]
  }
 ],
 "metadata": {
  "kernelspec": {
   "display_name": "Python 3 (ipykernel)",
   "language": "python",
   "name": "python3"
  },
  "language_info": {
   "codemirror_mode": {
    "name": "ipython",
    "version": 3
   },
   "file_extension": ".py",
   "mimetype": "text/x-python",
   "name": "python",
   "nbconvert_exporter": "python",
   "pygments_lexer": "ipython3",
   "version": "3.10.4"
  }
 },
 "nbformat": 4,
 "nbformat_minor": 4
}
