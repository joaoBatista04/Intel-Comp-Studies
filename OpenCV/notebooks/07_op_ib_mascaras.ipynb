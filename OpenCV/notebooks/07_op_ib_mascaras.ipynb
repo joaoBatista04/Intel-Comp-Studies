{
 "cells": [
  {
   "cell_type": "markdown",
   "metadata": {},
   "source": [
    "# Operações binarias e mascaras"
   ]
  },
  {
   "cell_type": "markdown",
   "metadata": {},
   "source": [
    "- Operações binárias são bastante uteis para criarmos máscaras em uma imagem\n",
    "- Mascaras, por sua vez, são importante para segmentação de imagens"
   ]
  },
  {
   "cell_type": "code",
   "execution_count": null,
   "metadata": {},
   "outputs": [],
   "source": [
    "import numpy as np\n",
    "import cv2\n",
    "import matplotlib.pyplot as plt"
   ]
  },
  {
   "cell_type": "markdown",
   "metadata": {},
   "source": [
    "- Vamos criar duas imagens para demostrar as operações"
   ]
  },
  {
   "cell_type": "code",
   "execution_count": null,
   "metadata": {},
   "outputs": [],
   "source": [
    "_temp = np.zeros((400,400,3), dtype=np.uint8)\n",
    "ret = cv2.rectangle(_temp.copy(), (30,30), (370,370), (255,255,255), cv2.FILLED)\n",
    "cir = cv2.circle(_temp.copy(), (200,200), 200, (255,255,255), cv2.FILLED)\n",
    "plt.imshow(cir)"
   ]
  },
  {
   "cell_type": "code",
   "execution_count": null,
   "metadata": {},
   "outputs": [],
   "source": [
    "plt.imshow(ret)"
   ]
  },
  {
   "cell_type": "markdown",
   "metadata": {},
   "source": [
    "## Bitwise AND\n",
    "- Podemos fazer uma operação `and` entre duas imagems da seguinte forma:"
   ]
  },
  {
   "cell_type": "code",
   "execution_count": null,
   "metadata": {},
   "outputs": [],
   "source": [
    "b_and = cv2.bitwise_and(ret, cir)\n",
    "plt.imshow(b_and)"
   ]
  },
  {
   "cell_type": "markdown",
   "metadata": {},
   "source": [
    "## Bitwise OR\n",
    "- Podemos fazer a operação `or` entre duas imagens da seguinte forma"
   ]
  },
  {
   "cell_type": "code",
   "execution_count": null,
   "metadata": {},
   "outputs": [],
   "source": [
    "b_or = cv2.bitwise_or(ret, cir)\n",
    "plt.imshow(b_or)"
   ]
  },
  {
   "cell_type": "markdown",
   "metadata": {},
   "source": [
    "## Bitwise XOR\n",
    "- Podemos fazer a operação `xor` entre duas imagens da seguinte forma"
   ]
  },
  {
   "cell_type": "code",
   "execution_count": null,
   "metadata": {},
   "outputs": [],
   "source": [
    "b_xor = cv2.bitwise_xor(ret, cir)\n",
    "plt.imshow(b_xor)"
   ]
  },
  {
   "cell_type": "markdown",
   "metadata": {},
   "source": [
    "## Bitwise NOT\n",
    "- Podemos fazer a operação `not` de uma imagem da seguinte forma:"
   ]
  },
  {
   "cell_type": "code",
   "execution_count": null,
   "metadata": {},
   "outputs": [],
   "source": [
    "b_not = cv2.bitwise_not(cir)\n",
    "plt.imshow(b_not)"
   ]
  },
  {
   "cell_type": "markdown",
   "metadata": {},
   "source": [
    "## Criando máscaras\n",
    "- Uma máscara é utilizada para selecionar uma parte de interesse de uma imagem\n",
    "- Vamos carregar uma imagem para pegar a mascara dela"
   ]
  },
  {
   "cell_type": "code",
   "execution_count": null,
   "metadata": {},
   "outputs": [],
   "source": [
    "img_vi = cv2.cvtColor(cv2.imread(\"assets/vi.jpg\"), cv2.COLOR_BGR2RGB)\n",
    "img_vi = cv2.resize(img_vi, None, fx=0.25, fy=0.25, interpolation=cv2.INTER_AREA)\n",
    "plt.imshow(img_vi)"
   ]
  },
  {
   "cell_type": "markdown",
   "metadata": {},
   "source": [
    "- Criando uma máscara para pegar só o rosto"
   ]
  },
  {
   "cell_type": "code",
   "execution_count": null,
   "metadata": {},
   "outputs": [],
   "source": [
    "mask = cv2.rectangle(np.zeros_like(img_vi), (400, 50), (580, 250), (255, 255, 255), thickness=cv2.FILLED)\n",
    "plt.imshow(mask)"
   ]
  },
  {
   "cell_type": "markdown",
   "metadata": {},
   "source": [
    "- Agora vamos aplicar a máscara"
   ]
  },
  {
   "cell_type": "code",
   "execution_count": null,
   "metadata": {},
   "outputs": [],
   "source": [
    "masked_vi = cv2.bitwise_and(img_vi, mask)\n",
    "plt.imshow(masked_vi)"
   ]
  },
  {
   "cell_type": "markdown",
   "metadata": {},
   "source": [
    "___\n",
    "# Exercício\n",
    "- Volte no exercício anterior e aplique, crie uma mascara para extrair só a placa do carro\n",
    "___\n"
   ]
  },
  {
   "cell_type": "code",
   "execution_count": null,
   "metadata": {},
   "outputs": [],
   "source": []
  }
 ],
 "metadata": {
  "kernelspec": {
   "display_name": "Python 3 (ipykernel)",
   "language": "python",
   "name": "python3"
  },
  "language_info": {
   "codemirror_mode": {
    "name": "ipython",
    "version": 3
   },
   "file_extension": ".py",
   "mimetype": "text/x-python",
   "name": "python",
   "nbconvert_exporter": "python",
   "pygments_lexer": "ipython3",
   "version": "3.10.4"
  }
 },
 "nbformat": 4,
 "nbformat_minor": 4
}
