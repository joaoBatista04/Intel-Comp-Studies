{
 "cells": [
  {
   "cell_type": "markdown",
   "metadata": {},
   "source": [
    "# Equalização de histograma\n",
    "- É um método de processamento de imagens que busca ajustar o contraste de uma imagem\n",
    "- É útil para melhorar a visualização da imagem, mas também é usado como um pré-processamento de alguns métodos\n",
    "- Mas antes, vamos dar uma olhada em como obter o histograma de uma imagem"
   ]
  },
  {
   "cell_type": "code",
   "execution_count": null,
   "metadata": {},
   "outputs": [],
   "source": [
    "import numpy as np\n",
    "import cv2\n",
    "import matplotlib.pyplot as plt"
   ]
  },
  {
   "cell_type": "markdown",
   "metadata": {},
   "source": [
    "- Carregando nossas imagens de exemplo"
   ]
  },
  {
   "cell_type": "code",
   "execution_count": null,
   "metadata": {},
   "outputs": [],
   "source": [
    "const = cv2.imread(\"assets/hist_ex.png\", cv2.IMREAD_GRAYSCALE)\n",
    "plt.imshow(const, cmap=\"gray\")"
   ]
  },
  {
   "cell_type": "code",
   "execution_count": null,
   "metadata": {},
   "outputs": [],
   "source": [
    "natureza = cv2.cvtColor(cv2.imread(\"assets/natureza.jpg\"), cv2.COLOR_BGR2RGB)\n",
    "plt.imshow(natureza)"
   ]
  },
  {
   "cell_type": "code",
   "execution_count": null,
   "metadata": {},
   "outputs": [],
   "source": [
    "goku = cv2.cvtColor(cv2.imread(\"assets/goku.png\"), cv2.COLOR_BGR2RGB)\n",
    "plt.imshow(goku)"
   ]
  },
  {
   "cell_type": "markdown",
   "metadata": {},
   "source": [
    "## Calculando o histograma\n",
    "- Para calcular o histograma utilizamos o método `calcHist()`, que calcula o histograma de uma ou mais imagens\n",
    "- Começando para uma imagem em tons de cinza"
   ]
  },
  {
   "cell_type": "code",
   "execution_count": null,
   "metadata": {},
   "outputs": [],
   "source": [
    "g_hist = cv2.calcHist([const], # lista de imagens que queremos calcular o histograma\n",
    "                      [0], # canais que queremos calcular o histograma\n",
    "                      None, # se quisermos calcular o histograma apenas para uma parte da imagem podemos passar uma máscara\n",
    "                      [256], # lista de bins para cada uma das imagens \n",
    "                      [0, 255], # range de todos os pixels que pode ser calculado o histograma\n",
    "                     )\n",
    "\n",
    "fig, ax = plt.subplots(figsize=[15, 5])\n",
    "ax.plot(g_hist, color=\"gray\")\n",
    "ax.set(xlim=[0, 256], title=\"Histograma de uma imagem em tons de cinza\", xlabel=\"bins\", ylabel=\"Nº de pixels\")"
   ]
  },
  {
   "cell_type": "markdown",
   "metadata": {},
   "source": [
    "- Se quisermos calcular o histograma apenas de uma parte da imagem, podemos criar uma mascara para isso"
   ]
  },
  {
   "cell_type": "code",
   "execution_count": null,
   "metadata": {},
   "outputs": [],
   "source": [
    "mask = cv2.rectangle(np.zeros_like(const, dtype=np.uint8), (180, 80), (400, 150), (255, 255, 255), thickness=cv2.FILLED )\n",
    "masked_const = cv2.bitwise_and(const, mask)\n",
    "plt.imshow(masked_const, cmap=\"gray\")"
   ]
  },
  {
   "cell_type": "code",
   "execution_count": null,
   "metadata": {},
   "outputs": [],
   "source": [
    "g_hist = cv2.calcHist([const], # lista de imagens que queremos calcular o histograma\n",
    "                      [0], # canais que queremos calcular o histograma\n",
    "                      mask, # se quisermos calcular o histograma apenas para uma parte da imagem podemos passar uma máscara\n",
    "                      [256], # lista de bins para cada uma das imagens \n",
    "                      [0, 255], # range de todos os pixels que pode ser calculado o histograma\n",
    "                     )\n",
    "\n",
    "fig, ax = plt.subplots(figsize=[15, 5])\n",
    "ax.plot(g_hist, color=\"gray\")\n",
    "ax.set(xlim=[0, 256], title=\"Histograma de uma imagem em tons de cinza\", xlabel=\"bins\", ylabel=\"Nº de pixels\")"
   ]
  },
  {
   "cell_type": "markdown",
   "metadata": {},
   "source": [
    "- Histograma de imagens coloridas\n",
    "    - Neste caso, temos que fazer por canais"
   ]
  },
  {
   "cell_type": "code",
   "execution_count": null,
   "metadata": {},
   "outputs": [],
   "source": [
    "fig, ax = plt.subplots(figsize=[15, 5])\n",
    "colors = [\"r\", \"g\", \"b\"]\n",
    "for ch, c in enumerate(colors):\n",
    "    c_hist = cv2.calcHist([natureza], [ch], None, [256], [0, 255])\n",
    "    ax.plot(c_hist, color=c)    \n",
    "ax.set(xlim=[0, 256], title=\"Histograma dos 3 canais de uma imagem RGB\", xlabel=\"bins\", ylabel=\"Nº de pixels\")"
   ]
  },
  {
   "cell_type": "markdown",
   "metadata": {},
   "source": [
    "## Realizando a equalização de histograma\n",
    "- Como o nome sugere, a intenção da equalização é fazer com que a distribuição dos pixels fique mais uniforme\n",
    "- A função `equalizeHist()` faz todo o trabalho\n",
    "\n",
    "#### Equalização para imagem em níveis de cinza"
   ]
  },
  {
   "cell_type": "code",
   "execution_count": null,
   "metadata": {},
   "outputs": [],
   "source": [
    "const_eq = cv2.equalizeHist(const)\n",
    "fig, ax = plt.subplots(nrows=1, ncols=2, figsize=(15,15))\n",
    "ax[0].imshow(const, cmap=\"gray\")\n",
    "ax[1].imshow(const_eq, cmap=\"gray\")"
   ]
  },
  {
   "cell_type": "markdown",
   "metadata": {},
   "source": [
    "#### Equalização para imagem colorida\n",
    "- Neste caso, precisamos converter a imagem para um espaço de cor que possua a intensidade do pixel em um canal separado\n"
   ]
  },
  {
   "cell_type": "code",
   "execution_count": null,
   "metadata": {},
   "outputs": [],
   "source": [
    "natureza_hsv = cv2.cvtColor(natureza, cv2.COLOR_RGB2HSV)\n",
    "plt.imshow(natureza_hsv[:, :, 2], cmap=\"gray\")"
   ]
  },
  {
   "cell_type": "code",
   "execution_count": null,
   "metadata": {},
   "outputs": [],
   "source": [
    "natureza_hsv_eq = natureza_hsv.copy()\n",
    "natureza_hsv_eq[:, :, 2] = cv2.equalizeHist(natureza_hsv[:, :, 2])\n",
    "plt.imshow(natureza_hsv_eq[:, :, 2], cmap=\"gray\")"
   ]
  },
  {
   "cell_type": "code",
   "execution_count": null,
   "metadata": {},
   "outputs": [],
   "source": [
    "natureza_eq = cv2.cvtColor(natureza_hsv_eq, cv2.COLOR_HSV2RGB)\n",
    "fig, ax = plt.subplots(nrows=1, ncols=2, figsize=(15,15))\n",
    "ax[0].imshow(natureza)\n",
    "ax[1].imshow(natureza_eq)"
   ]
  },
  {
   "cell_type": "markdown",
   "metadata": {},
   "source": [
    "____\n",
    "# Exercício\n",
    "- Repita o exercício acima usando os métodos `cv2.split()` e `cv2.merge()`\n",
    "___"
   ]
  }
 ],
 "metadata": {
  "kernelspec": {
   "display_name": "Python 3 (ipykernel)",
   "language": "python",
   "name": "python3"
  },
  "language_info": {
   "codemirror_mode": {
    "name": "ipython",
    "version": 3
   },
   "file_extension": ".py",
   "mimetype": "text/x-python",
   "name": "python",
   "nbconvert_exporter": "python",
   "pygments_lexer": "ipython3",
   "version": "3.10.4"
  }
 },
 "nbformat": 4,
 "nbformat_minor": 4
}
