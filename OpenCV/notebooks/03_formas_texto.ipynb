{
 "cells": [
  {
   "cell_type": "markdown",
   "metadata": {},
   "source": [
    "# Desenhando formas e texto em uma imagem\n",
    "- OpenCV oferece alguma maneiras de desenharmos formas e texto em cima de uma imagem\n",
    "- Isso é particularmente útil quando desejamos anotar uma imagem (em um tracking por exemplo)"
   ]
  },
  {
   "cell_type": "code",
   "execution_count": null,
   "metadata": {},
   "outputs": [],
   "source": [
    "import cv2\n",
    "import matplotlib.pyplot as plt\n",
    "import numpy as np"
   ]
  },
  {
   "cell_type": "code",
   "execution_count": null,
   "metadata": {},
   "outputs": [],
   "source": [
    "img_vi = cv2.cvtColor(cv2.imread(\"assets/vi.jpg\"), cv2.COLOR_BGR2RGB)\n",
    "img_vi = cv2.resize(img_vi, None, fx=0.25, fy=0.25, interpolation=cv2.INTER_AREA)\n",
    "plt.imshow(img_vi)"
   ]
  },
  {
   "cell_type": "markdown",
   "metadata": {},
   "source": [
    "## Desenhando uma linha"
   ]
  },
  {
   "cell_type": "code",
   "execution_count": null,
   "metadata": {},
   "outputs": [],
   "source": [
    "img_vi_lin = img_vi.copy()\n",
    "cv2.line(img_vi_lin, # imagem em que vai ser desenhado\n",
    "         (400, 50), # coordenada (x,y) do ponto de inicio \n",
    "         (580, 250), # coordenada (x,y) do ponto final \n",
    "         (0, 255, 0), # cor em RGB \n",
    "         thickness=7 # grossura da linha              \n",
    "        )\n",
    "plt.imshow(img_vi_lin)"
   ]
  },
  {
   "cell_type": "markdown",
   "metadata": {},
   "source": [
    "- Opcionamente, podemos pegar o retorno da funções (funciona paras as seguintes também)"
   ]
  },
  {
   "cell_type": "code",
   "execution_count": null,
   "metadata": {},
   "outputs": [],
   "source": [
    "img_vi_lin = cv2.line(img_vi.copy(), (400, 50), (580, 250), (0, 255, 0), thickness=7)\n",
    "plt.imshow(img_vi_lin)"
   ]
  },
  {
   "cell_type": "markdown",
   "metadata": {},
   "source": [
    "## Pintando uma parte da imagem com uma cor"
   ]
  },
  {
   "cell_type": "code",
   "execution_count": null,
   "metadata": {},
   "outputs": [],
   "source": [
    "img_vi_pint = img_vi.copy()\n",
    "img_vi_pint[80:200, 400:600, :] = 0, 0, 0\n",
    "plt.imshow(img_vi_pint)"
   ]
  },
  {
   "cell_type": "markdown",
   "metadata": {},
   "source": [
    "## Desenhando um retangulo na imagem\n"
   ]
  },
  {
   "cell_type": "code",
   "execution_count": null,
   "metadata": {},
   "outputs": [],
   "source": [
    "img_vi_ret = img_vi.copy()\n",
    "cv2.rectangle(img_vi_ret, # imagem em que vai ser desenhado\n",
    "              (400, 50), # coordenada (x,y) do ponto de inicio (ponto superior esquerdo)\n",
    "              (580, 250), # coordenada (x,y) do ponto final (ponto inferior direito)\n",
    "              (0, 255, 0), # cor em RGB \n",
    "              thickness=5 # grossura da linha (se cv2.FILLED ou -1, preenche tudo)              \n",
    "             )\n",
    "plt.imshow(img_vi_ret)"
   ]
  },
  {
   "cell_type": "markdown",
   "metadata": {},
   "source": [
    "## Desenhando um círculo na imagem"
   ]
  },
  {
   "cell_type": "code",
   "execution_count": null,
   "metadata": {},
   "outputs": [],
   "source": [
    "img_vi_cir = img_vi.copy()\n",
    "cv2.circle(img_vi_cir, # imagem em que vai ser desenhado\n",
    "           (450, 150), # coordenada (x,y) do centro do circulo\n",
    "           140, # raio\n",
    "           (0, 255, 0), # cor em RGB \n",
    "           thickness=4 # grossura da linha (se cv2.FILLED ou -1, preenche tudo)              \n",
    "          )\n",
    "plt.imshow(img_vi_cir)"
   ]
  },
  {
   "cell_type": "markdown",
   "metadata": {},
   "source": [
    "## Desenhando um texto em uma imagem"
   ]
  },
  {
   "cell_type": "code",
   "execution_count": null,
   "metadata": {},
   "outputs": [],
   "source": [
    "img_vi_txt = img_vi.copy()\n",
    "cv2.putText(img_vi_txt, # imagem em que vai ser desenhado\n",
    "            \"Vi - Arcane\", # texto que vai ser escrito\n",
    "            (400, 300), # coordenada de inicio do texto\n",
    "            cv2.FONT_HERSHEY_PLAIN, # fonte do texto\n",
    "            3.0, # tamanho da fonte\n",
    "            (0, 255, 0), # cor em RGB \n",
    "            thickness=4 # grossura do texto\n",
    "          )\n",
    "plt.imshow(img_vi_txt)"
   ]
  },
  {
   "cell_type": "markdown",
   "metadata": {},
   "source": [
    "## Obviamente, podemos misturar formas"
   ]
  },
  {
   "cell_type": "code",
   "execution_count": null,
   "metadata": {},
   "outputs": [],
   "source": [
    "cv2.rectangle(img_vi, (400, 50), (580, 250), (0, 255, 0), thickness=4)\n",
    "cv2.putText(img_vi, \"Vi - Arcane\", (400, 300), cv2.FONT_HERSHEY_PLAIN, 3.0, (0, 255, 0), thickness=4)\n",
    "plt.imshow(img_vi)"
   ]
  },
  {
   "cell_type": "code",
   "execution_count": null,
   "metadata": {},
   "outputs": [],
   "source": []
  }
 ],
 "metadata": {
  "kernelspec": {
   "display_name": "Python 3 (ipykernel)",
   "language": "python",
   "name": "python3"
  },
  "language_info": {
   "codemirror_mode": {
    "name": "ipython",
    "version": 3
   },
   "file_extension": ".py",
   "mimetype": "text/x-python",
   "name": "python",
   "nbconvert_exporter": "python",
   "pygments_lexer": "ipython3",
   "version": "3.10.4"
  }
 },
 "nbformat": 4,
 "nbformat_minor": 4
}
